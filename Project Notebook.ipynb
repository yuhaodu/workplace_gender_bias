{
 "cells": [
  {
   "cell_type": "markdown",
   "id": "f0a84030",
   "metadata": {},
   "source": [
    "# Workplace Bias Model Notebook by Steven Hadiwidjaja"
   ]
  },
  {
   "cell_type": "markdown",
   "id": "7f1612a2",
   "metadata": {},
   "source": [
    "This Jupyter notebook is based on further exploring the github repo 'workplace_gender_bias' created by Yuhao Du, Jessica Nordell and Kenneth Joseph, which essentially describes an agent-based model on similuating gender bias in the workplace. Further work will be taken on upon myself to further explore the model and its potential. The steps taken throughout this project will be detailed in this notebook in hopes of easy access for further research."
   ]
  },
  {
   "cell_type": "markdown",
   "id": "243f1c60",
   "metadata": {},
   "source": [
    "Source code: https://github.com/yuhaodu/workplace_gender_bias \n",
    "\n",
    "Journal: https://journals.sagepub.com/doi/full/10.1177/23780231221117888 "
   ]
  },
  {
   "cell_type": "markdown",
   "id": "1f01f1a1",
   "metadata": {},
   "source": [
    "## Purpose of this project"
   ]
  },
  {
   "cell_type": "markdown",
   "id": "21ee920c",
   "metadata": {},
   "source": [
    "The overarching goal of this project will be to create a proof of concept that can take this original gender bias model and implement augmented reality and virtual reality features into the model to effectively inform potential interventions that can be put in place to reduce bias and discrimination in the workplace. The following steps to take in this project:\n",
    "1. Update from python 2 to python 3 \n",
    "2. Ensure the model is able to run with updated code\n",
    "3. Implement AR / VR features into the model"
   ]
  },
  {
   "cell_type": "markdown",
   "id": "e26bf3d3",
   "metadata": {},
   "source": [
    "### Updating  the files from python 2 to python 3"
   ]
  },
  {
   "cell_type": "markdown",
   "id": "6925a4ee",
   "metadata": {},
   "source": [
    "Updating the python versions to be able to run the files and use newer packages in python 3."
   ]
  },
  {
   "cell_type": "code",
   "execution_count": 6,
   "id": "5a5f1b9a",
   "metadata": {
    "scrolled": true
   },
   "outputs": [],
   "source": [
    "# Package to automatically translate from python 2 to python 3 (ONLY NEED TO RUN ONCE)\n",
    "\n",
    "#!pip install 2to3"
   ]
  },
  {
   "cell_type": "code",
   "execution_count": 7,
   "id": "37cad7f5",
   "metadata": {},
   "outputs": [],
   "source": [
    "# Converting files from python 2 to python 3 (ONLY NEED TO RUN ONCE) \n",
    "\n",
    "# !2to3 \"C:\\Users\\shadi\\Internship Files\" -w .\\"
   ]
  },
  {
   "cell_type": "markdown",
   "id": "cfc4a705",
   "metadata": {},
   "source": [
    "---"
   ]
  },
  {
   "cell_type": "markdown",
   "id": "22d75064",
   "metadata": {},
   "source": [
    "### Converting plot_paper into a rmd file"
   ]
  },
  {
   "cell_type": "markdown",
   "id": "5bcce8bd",
   "metadata": {},
   "source": [
    "Converting the plot_paper.ipynb file into an .rmd file to access in RStudio as anaconda has an outdated R version."
   ]
  },
  {
   "cell_type": "code",
   "execution_count": 1,
   "id": "fa761335",
   "metadata": {
    "scrolled": true
   },
   "outputs": [
    {
     "name": "stdout",
     "output_type": "stream",
     "text": [
      "Collecting jupytext\n",
      "  Obtaining dependency information for jupytext from https://files.pythonhosted.org/packages/31/a6/7dd0d2da784ce724bd7410f45259279ebc43f34828c423f46028c3cf3ed1/jupytext-1.15.0-py3-none-any.whl.metadata\n",
      "  Downloading jupytext-1.15.0-py3-none-any.whl.metadata (9.7 kB)\n",
      "Requirement already satisfied: nbformat in c:\\users\\shadi\\anaconda3\\envs\\r\\lib\\site-packages (from jupytext) (5.7.0)\n",
      "Requirement already satisfied: pyyaml in c:\\users\\shadi\\anaconda3\\envs\\r\\lib\\site-packages (from jupytext) (6.0.1)\n",
      "Collecting toml (from jupytext)\n",
      "  Downloading toml-0.10.2-py2.py3-none-any.whl (16 kB)\n",
      "Collecting markdown-it-py>=1.0.0 (from jupytext)\n",
      "  Obtaining dependency information for markdown-it-py>=1.0.0 from https://files.pythonhosted.org/packages/42/d7/1ec15b46af6af88f19b8e5ffea08fa375d433c998b8a7639e76935c14f1f/markdown_it_py-3.0.0-py3-none-any.whl.metadata\n",
      "  Downloading markdown_it_py-3.0.0-py3-none-any.whl.metadata (6.9 kB)\n",
      "Collecting mdit-py-plugins (from jupytext)\n",
      "  Obtaining dependency information for mdit-py-plugins from https://files.pythonhosted.org/packages/e5/3c/fe85f19699a7b40c8f9ce8ecee7e269b9b3c94099306df6f9891bdefeedd/mdit_py_plugins-0.4.0-py3-none-any.whl.metadata\n",
      "  Downloading mdit_py_plugins-0.4.0-py3-none-any.whl.metadata (2.7 kB)\n",
      "Collecting mdurl~=0.1 (from markdown-it-py>=1.0.0->jupytext)\n",
      "  Downloading mdurl-0.1.2-py3-none-any.whl (10.0 kB)\n",
      "Requirement already satisfied: fastjsonschema in c:\\users\\shadi\\anaconda3\\envs\\r\\lib\\site-packages (from nbformat->jupytext) (2.16.2)\n",
      "Requirement already satisfied: jsonschema>=2.6 in c:\\users\\shadi\\anaconda3\\envs\\r\\lib\\site-packages (from nbformat->jupytext) (4.17.3)\n",
      "Requirement already satisfied: jupyter-core in c:\\users\\shadi\\anaconda3\\envs\\r\\lib\\site-packages (from nbformat->jupytext) (5.3.0)\n",
      "Requirement already satisfied: traitlets>=5.1 in c:\\users\\shadi\\anaconda3\\envs\\r\\lib\\site-packages (from nbformat->jupytext) (5.7.1)\n",
      "Requirement already satisfied: attrs>=17.4.0 in c:\\users\\shadi\\anaconda3\\envs\\r\\lib\\site-packages (from jsonschema>=2.6->nbformat->jupytext) (22.1.0)\n",
      "Requirement already satisfied: pyrsistent!=0.17.0,!=0.17.1,!=0.17.2,>=0.14.0 in c:\\users\\shadi\\anaconda3\\envs\\r\\lib\\site-packages (from jsonschema>=2.6->nbformat->jupytext) (0.18.0)\n",
      "Requirement already satisfied: platformdirs>=2.5 in c:\\users\\shadi\\anaconda3\\envs\\r\\lib\\site-packages (from jupyter-core->nbformat->jupytext) (2.5.2)\n",
      "Requirement already satisfied: pywin32>=300 in c:\\users\\shadi\\anaconda3\\envs\\r\\lib\\site-packages (from jupyter-core->nbformat->jupytext) (305.1)\n",
      "Downloading jupytext-1.15.0-py3-none-any.whl (299 kB)\n",
      "   ---------------------------------------- 0.0/299.4 kB ? eta -:--:--\n",
      "   ---------------------------------------  297.0/299.4 kB 6.1 MB/s eta 0:00:01\n",
      "   ---------------------------------------- 299.4/299.4 kB 6.2 MB/s eta 0:00:00\n",
      "Downloading markdown_it_py-3.0.0-py3-none-any.whl (87 kB)\n",
      "   ---------------------------------------- 0.0/87.5 kB ? eta -:--:--\n",
      "   ---------------------------------------- 87.5/87.5 kB ? eta 0:00:00\n",
      "Downloading mdit_py_plugins-0.4.0-py3-none-any.whl (54 kB)\n",
      "   ---------------------------------------- 0.0/54.1 kB ? eta -:--:--\n",
      "   ---------------------------------------- 54.1/54.1 kB ? eta 0:00:00\n",
      "Installing collected packages: toml, mdurl, markdown-it-py, mdit-py-plugins, jupytext\n",
      "Successfully installed jupytext-1.15.0 markdown-it-py-3.0.0 mdit-py-plugins-0.4.0 mdurl-0.1.2 toml-0.10.2\n",
      "Note: you may need to restart the kernel to use updated packages.\n"
     ]
    }
   ],
   "source": [
    "# Package to convert ipynb file into rmd file (ONLY NEED TO RUN ONCE)\n",
    "# pip install jupytext\n"
   ]
  },
  {
   "cell_type": "code",
   "execution_count": 3,
   "id": "2ddad013",
   "metadata": {},
   "outputs": [
    {
     "name": "stdout",
     "output_type": "stream",
     "text": [
      "[jupytext] Reading PLOT_PAPER.ipynb in format ipynb\n",
      "[jupytext] Writing PLOT_PAPER.Rmd\n"
     ]
    }
   ],
   "source": [
    "# Converting plot_paper file into .rmd file to run in RStudio (ONLY NEED TO RUN ONCE)\n",
    "# !jupytext --to rmarkdown plot_paper.ipynb"
   ]
  },
  {
   "cell_type": "markdown",
   "id": "d8d028c4",
   "metadata": {},
   "source": [
    "---"
   ]
  },
  {
   "cell_type": "markdown",
   "id": "c287e2e0",
   "metadata": {},
   "source": [
    "### Running the original model"
   ]
  },
  {
   "cell_type": "markdown",
   "id": "b662fcc7",
   "metadata": {},
   "source": [
    "To output the same visualisations from the original notebook, firstly need to generate the datapoints from running simulations of the agent-based model and then storing it into a csv file. To do this, create a folder named 'results' in the working directory and then run the following code. This will generate csv and tsf files of datapoints with different discrimination factors. To visualise, run the plot_paper.ipynb file in RStudio which will generate the visualisations."
   ]
  },
  {
   "cell_type": "code",
   "execution_count": 34,
   "id": "b5c3bc39",
   "metadata": {
    "scrolled": true
   },
   "outputs": [],
   "source": [
    "# Download necessary packages (ONLY NEED TO RUN ONCE)\n",
    "\n",
    "#!pip install yaml\n",
    "#!pip install numpy\n",
    "#!pip install pandas\n",
    "#!pip install yaml"
   ]
  },
  {
   "cell_type": "code",
   "execution_count": 5,
   "id": "feff736b",
   "metadata": {},
   "outputs": [
    {
     "name": "stdout",
     "output_type": "stream",
     "text": [
      "^C\n"
     ]
    }
   ],
   "source": [
    "# Generate the data needed to simulate the effects of nobias, allbias, rewardLess, PenaltyMore, MixedRewardLess, \n",
    "# MixedPenaltyMore, Complain, Stretch, weight (ONLY NEED TO RUN ONCE)\n",
    "\n",
    "# !python model.py ./parameters/nobias.yaml ./parameters/default_params_fig12.yaml ./results/NoBias 100 1\n",
    "# !python model.py ./parameters/allbias.yaml ./parameters/default_params_fig12.yaml ./results/AllBias 100 1 \n",
    "# !python model.py ./parameters/rewardless.yaml ./parameters/default_params_fig12.yaml ./results/RewardLess 100 1 \n",
    "# !python model.py ./parameters/penaltymore.yaml ./parameters/default_params_fig12.yaml ./results/PenaltyMore 100 1 \n",
    "# !python model.py ./parameters/mixedrewardless.yaml ./parameters/default_params_fig12.yaml ./results/MixedRewardLess 100 1 \n",
    "# !python model.py ./parameters/mixedpenaltymore.yaml ./parameters/default_params_fig12.yaml ./results/MixedPenaltyMore 100 1 \n",
    "# !python model.py ./parameters/complain.yaml ./parameters/default_params_fig12.yaml ./results/Complain 100 1 \n",
    "# !python model.py ./parameters/stretch.yaml ./parameters/default_params_fig12.yaml ./results/Stretch 100 1 \n",
    "# !python model.py ./parameters/weight.yaml ./parameters/default_params_fig3.yaml ./results/weight 100 6 \n",
    "# !python model.py ./parameters/intervention.yaml ./parameters/default_params_fig4.yaml ./results/intervention 100 6 \n"
   ]
  },
  {
   "cell_type": "markdown",
   "id": "4dc53df7",
   "metadata": {},
   "source": [
    "---"
   ]
  },
  {
   "cell_type": "markdown",
   "id": "f3f66735",
   "metadata": {},
   "source": [
    "### Adding GUI to the model bias factors"
   ]
  },
  {
   "cell_type": "markdown",
   "id": "6a874589",
   "metadata": {},
   "source": [
    "To easily manipulate the strength of each bias factor, this section will add a GUI feature to easily manipulate these factors to help visualise the effects of changing these factors. "
   ]
  },
  {
   "cell_type": "code",
   "execution_count": null,
   "id": "3fd91491",
   "metadata": {},
   "outputs": [],
   "source": []
  }
 ],
 "metadata": {
  "kernelspec": {
   "display_name": "Python 3 (ipykernel)",
   "language": "python",
   "name": "python3"
  },
  "language_info": {
   "codemirror_mode": {
    "name": "ipython",
    "version": 3
   },
   "file_extension": ".py",
   "mimetype": "text/x-python",
   "name": "python",
   "nbconvert_exporter": "python",
   "pygments_lexer": "ipython3",
   "version": "3.11.4"
  }
 },
 "nbformat": 4,
 "nbformat_minor": 5
}
