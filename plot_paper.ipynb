{
 "cells": [
  {
   "cell_type": "code",
   "execution_count": 1,
   "id": "liberal-history",
   "metadata": {},
   "outputs": [
    {
     "name": "stderr",
     "output_type": "stream",
     "text": [
      "Warning message:\n",
      "\"package 'survival' was built under R version 3.6.3\"Registered S3 methods overwritten by 'ggplot2':\n",
      "  method         from \n",
      "  [.quosures     rlang\n",
      "  c.quosures     rlang\n",
      "  print.quosures rlang\n",
      "Warning message:\n",
      "\"package 'Hmisc' was built under R version 3.6.3\"Loading required package: lattice\n",
      "Loading required package: Formula\n"
     ]
    },
    {
     "ename": "ERROR",
     "evalue": "Error: package or namespace load failed for 'Hmisc' in loadNamespace(j <- i[[1L]], c(lib.loc, .libPaths()), versionCheck = vI[[j]]):\n there is no package called 'latticeExtra'\n",
     "output_type": "error",
     "traceback": [
      "Error: package or namespace load failed for 'Hmisc' in loadNamespace(j <- i[[1L]], c(lib.loc, .libPaths()), versionCheck = vI[[j]]):\n there is no package called 'latticeExtra'\nTraceback:\n",
      "1. library(Hmisc)",
      "2. tryCatch({\n .     attr(package, \"LibPath\") <- which.lib.loc\n .     ns <- loadNamespace(package, lib.loc)\n .     env <- attachNamespace(ns, pos = pos, deps, exclude, include.only)\n . }, error = function(e) {\n .     P <- if (!is.null(cc <- conditionCall(e))) \n .         paste(\" in\", deparse(cc)[1L])\n .     else \"\"\n .     msg <- gettextf(\"package or namespace load failed for %s%s:\\n %s\", \n .         sQuote(package), P, conditionMessage(e))\n .     if (logical.return) \n .         message(paste(\"Error:\", msg), domain = NA)\n .     else stop(msg, call. = FALSE, domain = NA)\n . })",
      "3. tryCatchList(expr, classes, parentenv, handlers)",
      "4. tryCatchOne(expr, names, parentenv, handlers[[1L]])",
      "5. value[[3L]](cond)",
      "6. stop(msg, call. = FALSE, domain = NA)"
     ]
    }
   ],
   "source": [
    "# Just an example of how to plot some results\n",
    "library(data.table)\n",
    "library(survival)\n",
    "library(ggplot2)\n",
    "library(scales)\n",
    "library(Hmisc)\n",
    "theme_set(theme_bw(20))\n",
    "library(tidyr)\n",
    "library(dplyr)\n",
    "library(plyr)"
   ]
  },
  {
   "cell_type": "code",
   "execution_count": 27,
   "id": "capital-czech",
   "metadata": {},
   "outputs": [],
   "source": [
    "read_file <- function(dir_name){\n",
    "print(list.files(path=paste0(dir_name),\n",
    "                                        pattern=\"*detail.tsv\",\n",
    "                                        full.names = T))\n",
    "sim_res2 <- rbindlist(lapply(list.files(path=paste0(dir_name),\n",
    "                                        pattern=\"*detail.tsv\",\n",
    "                                        full.names = T),fread))\n",
    "setnames(sim_res2,c(\"fem_prom\", \"fem_suc\", \"fem_fail\",\"fem_promotion_missed\",\"fem_unfair_promotion_missed\",\"fem_bias\",\n",
    "                    \"male_prom\",\"male_suc\",\"male_fail\",\"male_promotion_missed\",\"male_unfair_promotion_missed\",\"male_bias\",\n",
    "                    \"n_men\",\"n_women\",\"turn\",\"level_iter\",\"run_number\",\"replication_number\"))\n",
    "params <- fread(paste0(dir_name,\"/experiment_details.csv\"))\n",
    "sim_res2 <- merge(sim_res2,params, by=\"run_number\")\n",
    "sim_res2 <- sim_res2[turn %% 24 == 0]\n",
    "sim_res2$turn <- sim_res2$turn / 24 + 1\n",
    "sim_res2$level_iter <- paste(\"Level\",8-sim_res2$level_iter)\n",
    "sim_res2$type <- dir_name\n",
    "sim_res2$level_iter <- factor(sim_res2$level_iter,levels=c('Level 8','Level 7','Level 6','Level 5','Level 4',\n",
    "                                                  'Level 3','Level 2','Level 1'))\n",
    "return(sim_res2)\n",
    "}\n",
    "\n",
    "\n",
    "read_file_Single <- function(dir_name,file_name){\n",
    "sim_res2 = fread(paste0(dir_name,'/',file_name))\n",
    "setnames(sim_res2,c(\"fem_prom\", \"fem_suc\", \"fem_fail\",\"fem_promotion_missed\",\"fem_unfair_promotion_missed\",\"fem_bias\",\n",
    "                    \"male_prom\",\"male_suc\",\"male_fail\",\"male_promotion_missed\",\"male_unfair_promotion_missed\",\"male_bias\",\n",
    "                    \"n_men\",\"n_women\",\"turn\",\"level_iter\",\"run_number\",\"replication_number\"))\n",
    "params <- fread(paste0(dir_name,\"/experiment_details.csv\"))\n",
    "sim_res2 <- merge(sim_res2,params, by=\"run_number\")\n",
    "sim_res2 <- sim_res2[turn %% 24 == 0]\n",
    "sim_res2$turn <- sim_res2$turn / 24 + 1\n",
    "sim_res2$level_iter <- paste(\"Level\",8-sim_res2$level_iter)\n",
    "sim_res2$type <- dir_name\n",
    "sim_res2$level_iter <- factor(sim_res2$level_iter,levels=c('Level 8','Level 7','Level 6','Level 5','Level 4',\n",
    "                                                  'Level 3','Level 2','Level 1'))\n",
    "return(sim_res2)\n",
    "}\n"
   ]
  },
  {
   "cell_type": "code",
   "execution_count": 28,
   "id": "commercial-fountain",
   "metadata": {},
   "outputs": [],
   "source": [
    "read_each_agent <- function(dir_name,file_name){\n",
    "sim_res2 = fread(paste0(dir_name,'/',file_name))\n",
    "setnames(sim_res2,c('agent_id', 'promotion_cycle', 'perceived_promotability', 'num_successful_proj', 'num_failed_proj', 'level_iter','is_male'))\n",
    "params <- fread(paste0(dir_name,\"/experiment_details.csv\"))\n",
    "sim_res2 <- sim_res2[promotion_cycle %% 24 == 0]\n",
    "sim_res2$promotion_cycle <- sim_res2$promotion_cycle / 24 + 1\n",
    "sim_res2$level_iter <- paste(\"Level\",8-sim_res2$level_iter)\n",
    "sim_res2$type <- file_name\n",
    "sim_res2$level_iter <- factor(sim_res2$level_iter,levels=c('Level 8','Level 7','Level 6','Level 5','Level 4',\n",
    "                                                  'Level 3','Level 2','Level 1'))\n",
    "return(sim_res2)\n",
    "}"
   ]
  },
  {
   "cell_type": "code",
   "execution_count": 29,
   "id": "extensive-leather",
   "metadata": {},
   "outputs": [],
   "source": [
    "read_file_promotion_cycle <- function(dir_name){\n",
    "print(list.files(path=paste0(dir_name),\n",
    "                                        pattern=\"*promotion.tsv\",\n",
    "                                        full.names = T))\n",
    "sim_res2 <- rbindlist(lapply(list.files(path=paste0(dir_name),\n",
    "                                        pattern=\"*_promotion.tsv\",\n",
    "                                        full.names = T),fread))\n",
    "setnames(sim_res2,c(\"n_men\",\"n_women\",'men_leave','women_leave',\n",
    "                    'men_promoted','women_promoted',\"promotion_cycle\",\n",
    "                    \"level_iter\",\"run_number\",\"replication_number\",'bias_level'))\n",
    "params <- fread(paste0(dir_name,\"/experiment_details.csv\"))\n",
    "sim_res2 <- merge(sim_res2,params, by=\"run_number\")\n",
    "sim_res2 <- sim_res2[promotion_cycle %% 24 == 0]\n",
    "sim_res2$promotion_cycle <- sim_res2$promotion_cycle / 24 + 1\n",
    "sim_res2$type <- dir_name\n",
    "sim_res2$level_iter <- paste(\"Level\",8-sim_res2$level_iter)\n",
    "sim_res2$level_iter <- factor(sim_res2$level_iter,levels=c('Level 8','Level 7','Level 6','Level 5','Level 4',\n",
    "                                                  'Level 3','Level 2','Level 1'))\n",
    "return(sim_res2)\n",
    "}\n",
    "\n",
    "\n",
    "read_file_promotion_cycle_Single <- function(dir_name,file_name){\n",
    "sim_res2 = fread(paste0(dir_name,'/',file_name))\n",
    "setnames(sim_res2,c(\"n_men\",\"n_women\",'men_leave','women_leave',\n",
    "                    'men_promoted','women_promoted',\"promotion_cycle\",\n",
    "                    \"level_iter\",\"run_number\",\"replication_number\",'bias_level'))\n",
    "params <- fread(paste0(dir_name,\"/experiment_details.csv\"))\n",
    "sim_res2 <- merge(sim_res2,params, by=\"run_number\")\n",
    "sim_res2 <- sim_res2[promotion_cycle %% 24 == 0]\n",
    "sim_res2$promotion_cycle <- sim_res2$promotion_cycle / 24 + 1\n",
    "sim_res2$level_iter <- paste(\"Level\",8-sim_res2$level_iter)\n",
    "sim_res2$type <- file_name\n",
    "sim_res2$level_iter <- factor(sim_res2$level_iter,levels=c('Level 8','Level 7','Level 6','Level 5','Level 4',\n",
    "                                                  'Level 3','Level 2','Level 1'))\n",
    "return(sim_res2)\n",
    "}\n",
    "\n",
    "\n",
    "\n"
   ]
  },
  {
   "cell_type": "markdown",
   "id": "afraid-greek",
   "metadata": {},
   "source": [
    "# Figure 1 and Figure2"
   ]
  },
  {
   "cell_type": "code",
   "execution_count": 30,
   "id": "flush-benefit",
   "metadata": {},
   "outputs": [
    {
     "name": "stdout",
     "output_type": "stream",
     "text": [
      "[1] \"./results/NoBias/NoBias0_detail.tsv\"\n",
      "[1] \"./results/Complain/Complain0_detail.tsv\"\n",
      "[1] \"./results/Stretch/Stretch0_detail.tsv\"\n",
      "[1] \"./results/RewardLess/RewardLess0_detail.tsv\"\n",
      "[1] \"./results/PenaltyMore/PenaltyMore0_detail.tsv\"\n",
      "[1] \"./results/MixedRewardLess/MixedRewardLess0_detail.tsv\"\n",
      "[1] \"./results/MixedPenaltyMore/MixedPenaltyMore0_detail.tsv\"\n",
      "[1] \"./results/AllBias/AllBias0_detail.tsv\"\n"
     ]
    },
    {
     "ename": "ERROR",
     "evalue": "Error in mapvalues(tmp$type, c(\"./results/NoBias\", \"./results/Complain\", : could not find function \"mapvalues\"\n",
     "output_type": "error",
     "traceback": [
      "Error in mapvalues(tmp$type, c(\"./results/NoBias\", \"./results/Complain\", : could not find function \"mapvalues\"\nTraceback:\n"
     ]
    }
   ],
   "source": [
    "noBias <- read_file('./results/NoBias')\n",
    "Complain <- read_file('./results/Complain')\n",
    "stretchProject <-  read_file('./results/Stretch')\n",
    "RewardLess <- read_file('./results/RewardLess')\n",
    "PenaltyMore <- read_file('./results/PenaltyMore')\n",
    "MixedRewardLess <- read_file('./results/MixedRewardLess')\n",
    "MixedPenaltyMore <- read_file('./results/MixedPenaltyMore')\n",
    "allBias <- read_file('./results/AllBias')\n",
    "\n",
    "\n",
    "tmp <- rbind(RewardLess,PenaltyMore,noBias,MixedRewardLess,MixedPenaltyMore,Complain,allBias,stretchProject,fill=TRUE)\n",
    "tmp$type <- factor(tmp$type, \n",
    "                   levels = c(\"./results/NoBias\",\"./results/Complain\",\"./results/Stretch\",\"./results/MixedPenaltyMore\",\n",
    "                              \"./results/MixedRewardLess\",\"./results/PenaltyMore\",\"./results/RewardLess\",\"./results/AllBias\"))\n",
    "\n",
    "\n",
    "\n",
    "\n",
    "\n",
    "tmp$type_name <- mapvalues(tmp$type, c(\"./results/NoBias\",\n",
    "                                       \"./results/Complain\",\n",
    "                                       \"./results/Stretch\",\n",
    "                                      \"./results/MixedPenaltyMore\",\n",
    "                                      \"./results/MixedRewardLess\",\n",
    "                                      \"./results/PenaltyMore\",\n",
    "                                      \"./results/RewardLess\",\n",
    "                                      \"./results/AllBias\"),\n",
    "                          c(\"No Biases\",\n",
    "                           \"Penalty\\nNon-Altruism\",\n",
    "                                \"Penalty\\nStretch\\nProject\",\n",
    "                           \"Penalty\\nMixed Group\\nFailure\",\n",
    "                           \"Reward\\nMixed Group\\nSucces\",\n",
    "                           \"Penalty\\nIndividual\\nFailure\",\n",
    "                           \"Reward\\nIndividual\\nSuccess\",\n",
    "                           \"All Biases\"))\n",
    "\n"
   ]
  },
  {
   "cell_type": "code",
   "execution_count": null,
   "id": "green-morocco",
   "metadata": {},
   "outputs": [],
   "source": [
    "\n",
    "\n",
    "w = 13.5\n",
    "h=4\n",
    "options(repr.plot.width = w, repr.plot.height = h)\n",
    "p <- ggplot(tmp,aes(turn,n_men/(n_men+n_women),color=level_iter)) + \n",
    "    stat_summary(fun.data=\"mean_cl_normal\",size = 0.3) + \n",
    "    stat_summary(fun=\"mean\",geom=\"line\",size=1.2)  + \n",
    "    geom_hline(yintercept = .5) + \n",
    "    scale_y_continuous(\"% Men\", labels=percent) + \n",
    "    xlab(\"Promotion Cycle\") + \n",
    "    facet_grid(~type_name)+ \n",
    "    scale_color_discrete(\"Level of\\nCorporate\\nHierarchy\")+\n",
    "    theme(strip.text.x= element_text(size=13),plot.margin = margin(1.5,0.5,0.5,1.0,unit = 'cm'))\n",
    "# p <- p + scale_x_continuous(limits=c(1,10),breaks=c(1,2,4,6,8,10))\n",
    "p\n",
    "# ggsave('/home/yuhaodu/workplace_gender_repo/image/AccBias.pdf',width =w,height=h)\n",
    "options(repr.plot.width = w, repr.plot.height = h)\n",
    "p <- ggplot(tmp[fem_bias!=-1],aes(turn,fem_bias,color=level_iter)) +\n",
    "    stat_summary(fun.data=\"mean_cl_normal\",size = 0.3) + \n",
    "    stat_summary(fun.y=\"mean\",geom=\"line\",size=1.2)  + \n",
    "    geom_hline(yintercept = 0) +\n",
    "     scale_y_continuous(\"Avg. Num.\\n Biases Women\\nEncounter\") + \n",
    "    xlab(\"Promotion Cycle\")+ \n",
    " facet_grid(~type_name)+ \n",
    "scale_color_discrete(\"Level of\\nCorporate\\nHierarchy\") +\n",
    "    theme(strip.text.x= element_text(size=13), plot.margin = margin(1,0.5,0.5,0.1,unit = 'cm') )\n",
    "p\n",
    "# ggsave('/home/yuhaodu/workplace_gender_repo/image/NumBias.pdf',width =w,height=h)"
   ]
  },
  {
   "cell_type": "code",
   "execution_count": null,
   "id": "sustained-chicken",
   "metadata": {},
   "outputs": [],
   "source": []
  },
  {
   "cell_type": "code",
   "execution_count": null,
   "id": "functioning-submission",
   "metadata": {},
   "outputs": [],
   "source": [
    "w = 10\n",
    "h=4\n",
    "options(repr.plot.width = w, repr.plot.height = h)\n",
    "tmp <- rbind(RewardLess,noBias,allBias,fill=T)\n",
    "tmp$type <- factor(tmp$type, levels = c(\"Jess_0.03_NoBias\",\"Jess_0.03_RewardLess\",\"Jess_0.03_AllBias\"),\n",
    "                  labels=c(\"No Biases\",\n",
    "                           \"Reward\\nIndividual Success\",\n",
    "                           \"All Biases\"))\n",
    "tmp$fem_diff <- tmp$fem_suc - tmp$fem_fail\n",
    "tmp$male_diff <- tmp$male_suc - tmp$male_fail\n",
    "tmp$level_iter <- factor(tmp$level_iter,levels=c('Level 1','Level 2','Level 3','Level 4','Level 5',\n",
    "                                                  'Level 6','Level 7','Level 8'), labels=1:8)\n",
    "#melt(tmp,id=c('level_iter','type','run_number'),measure=c(\"fem_diff\",\"male_diff\"))[value!=-1]\n",
    "p <- ggplot(melt(tmp[fem_bias!=-1],id=c('level_iter','type','replication_number','turn'),\n",
    "                 measure=c(\"fem_diff\",\"male_diff\"))[value!=-1 & turn == 20]) +\n",
    " stat_summary(aes(x=level_iter,y=value,color=variable),fun.data=\"mean_cl_normal\") +\n",
    "stat_summary(aes(x=level_iter,y=value,group=variable,color = variable),fun.y=\"mean\",geom=\"line\",size=1.2) +\n",
    "    geom_hline(yintercept = 0)+\n",
    "scale_y_continuous(\"Num of Succ Projects -\\nNum of Failed Projects\") + xlab(\"Level\")+\n",
    "theme(strip.text.x= element_text(size=12))+\n",
    "facet_grid(~type)+ \n",
    "scale_color_discrete(\"Gender\", labels=c(\"Women\",\"Men\")) \n",
    "\n",
    "p\n",
    "# ggsave('/home/yuhaodu/workplace_gender_repo/image/DiffBias.pdf',width =w,height=h)\n",
    "\n"
   ]
  },
  {
   "cell_type": "markdown",
   "id": "recovered-former",
   "metadata": {},
   "source": [
    "# Figure 3"
   ]
  },
  {
   "cell_type": "code",
   "execution_count": 24,
   "id": "czech-passion",
   "metadata": {},
   "outputs": [
    {
     "name": "stdout",
     "output_type": "stream",
     "text": [
      "[1] \"./results/weight/weight0_promotion.tsv\"\n",
      "[2] \"./results/weight/weight1_promotion.tsv\"\n",
      "[3] \"./results/weight/weight2_promotion.tsv\"\n",
      "[4] \"./results/weight/weight3_promotion.tsv\"\n",
      "[5] \"./results/weight/weight4_promotion.tsv\"\n",
      "[6] \"./results/weight/weight5_promotion.tsv\"\n"
     ]
    },
    {
     "name": "stderr",
     "output_type": "stream",
     "text": [
      "Warning message:\n",
      "\"Computation failed in `stat_summary()`:\n",
      "Hmisc package required for this function\"Warning message:\n",
      "\"Computation failed in `stat_summary()`:\n",
      "Hmisc package required for this function\"Warning message:\n",
      "\"Computation failed in `stat_summary()`:\n",
      "Hmisc package required for this function\"Warning message:\n",
      "\"Computation failed in `stat_summary()`:\n",
      "Hmisc package required for this function\"Warning message:\n",
      "\"Computation failed in `stat_summary()`:\n",
      "Hmisc package required for this function\"Warning message:\n",
      "\"Computation failed in `stat_summary()`:\n",
      "Hmisc package required for this function\""
     ]
    },
    {
     "data": {
      "image/png": "[encoded data removed]",
      "text/plain": [
       "plot without title"
      ]
     },
     "metadata": {},
     "output_type": "display_data"
    }
   ],
   "source": [
    "w =15\n",
    "h= 5\n",
    "options(repr.plot.width = w, repr.plot.height = h)\n",
    "weight <- read_file_promotion_cycle('./results/weight')\n",
    "weight$weight = as.character(weight$weight)\n",
    "p <- ggplot(weight[weight != \"without\"],aes(promotion_cycle,n_men/(n_men+n_women),color=level_iter)) + \n",
    "    stat_summary(fun.data=\"mean_cl_normal\",size = 0.3) + \n",
    "    stat_summary(fun.y=\"mean\",geom=\"line\",size=1.2) + \n",
    "    geom_hline(yintercept = .5) +\n",
    "    scale_y_continuous(\"% Men at Level\", labels=percent) + \n",
    "    xlab(\"Promotion Cycle\") +\n",
    "    scale_color_discrete(\"Level of\\nCorporate\\nHierarchy\") +\n",
    "    facet_grid(~weight) \n",
    "\n",
    "p\n"
   ]
  },
  {
   "cell_type": "markdown",
   "id": "floating-thinking",
   "metadata": {},
   "source": [
    "# Figure 4"
   ]
  },
  {
   "cell_type": "code",
   "execution_count": null,
   "id": "unique-isaac",
   "metadata": {},
   "outputs": [],
   "source": [
    "h=5\n",
    "w=15\n",
    "intervention <- read_file_promotion_cycle('./results/intervention')\n",
    "intervention[ , promotion_interv := factor(promotion_intervention_span,\n",
    "                                          levels=c('[168, 240]',\n",
    "                                                   '[168, 312]',\n",
    "                                                   '[168, 384]'),\n",
    "                                          labels=c(\"3 Prom. Cycles\",\"6 Prom. Cycles\",\"9 Prom. Cycles\"))]\n",
    "intervention[ , promotion_norm := factor(promotion_intervention_norm,\n",
    "                                          levels=c(0.4,\n",
    "                                                   0.7,\n",
    "                                                   1),\n",
    "                                          labels=c(\"Moderate\\nMacro Norms\",\n",
    "                                                   \"Low\\nMacro Norms\",\n",
    "                                                   \"No\\nMacro Norms\"))]\n",
    "intervention <- intervention[promotion_interv == '6 Prom. Cycles']\n",
    "g <- ggplot(intervention[promotion_cycle <=75],aes(x=promotion_cycle,y=n_men/(n_men+n_women),color=level_iter)) + \n",
    "    stat_summary(fun.data = \"mean_cl_normal\",size = 0.3) + \n",
    "    stat_summary(fun.y='mean',geom='line',size=1.2) + \n",
    "    geom_hline(yintercept=0.5) +\n",
    "    scale_y_continuous(\"% Men at Level\",labels = percent) + \n",
    "    xlab(\"Promotion Cycle\") +\n",
    "    facet_grid(promotion_interv~promotion_norm) +\n",
    "    scale_color_discrete(\"Level of\\nCorporate\\nHierarchy\") +\n",
    "    geom_vline(xintercept = 7, size=1.2,linetype=\"dashed\",color=\"darkgrey\")\n",
    "options(repr.plot.width = w, repr.plot.height = h)\n",
    "g\n"
   ]
  }
 ],
 "metadata": {
  "kernelspec": {
   "display_name": "R",
   "language": "R",
   "name": "ir"
  },
  "language_info": {
   "codemirror_mode": "r",
   "file_extension": ".r",
   "mimetype": "text/x-r-source",
   "name": "R",
   "pygments_lexer": "r",
   "version": "3.6.1"
  }
 },
 "nbformat": 4,
 "nbformat_minor": 5
}
